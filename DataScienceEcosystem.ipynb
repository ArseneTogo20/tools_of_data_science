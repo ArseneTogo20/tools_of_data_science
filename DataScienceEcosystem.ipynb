{
 "cells": [
  {
   "cell_type": "markdown",
   "id": "1736e4d8",
   "metadata": {},
   "source": [
    "## Exercise 2 : Create markdown cell with title of the notebook"
   ]
  },
  {
   "cell_type": "markdown",
   "id": "26123f25",
   "metadata": {},
   "source": [
    "# Data Science Tools and Ecosystem"
   ]
  },
  {
   "cell_type": "markdown",
   "id": "3ffdd53f",
   "metadata": {},
   "source": [
    "## Exercise 3 - Create a markdown cell for an introduction"
   ]
  },
  {
   "cell_type": "markdown",
   "id": "08a4b185",
   "metadata": {},
   "source": [
    "### In this notebook, Data Science Tools and Ecosystem are summarized.\n",
    "*Objectives:*\n",
    "\n",
    "- List popular languages for Data Science\n",
    "- Introduce arithmetic expressions in Python\n",
    "- Convert minutes to hours using Python\n",
    "- Create a table of Data Science tools\n",
    "- Use Markdown syntax to format text in Jupyter Notebook"
   ]
  },
  {
   "cell_type": "markdown",
   "id": "4a1ff0b6",
   "metadata": {},
   "source": [
    "## Exercise 4 - Create a markdown cell to list data science languages "
   ]
  },
  {
   "cell_type": "markdown",
   "id": "8c1e8c74",
   "metadata": {},
   "source": [
    "Some of the popular languages that Data Scientits use are : \n",
    "1. Python\n",
    "2. R\n",
    "3. Sql\n",
    "4. Julia"
   ]
  },
  {
   "cell_type": "markdown",
   "id": "a142a33e",
   "metadata": {},
   "source": [
    "## Exercise 5 - Create a markdown cell to list data science libraries"
   ]
  },
  {
   "cell_type": "markdown",
   "id": "4647ee97",
   "metadata": {},
   "source": [
    "Some of the commonly used libraries used by Data Scientists include:\n",
    "1. pandas\n",
    "2. numpy\n",
    "3. scipy\n",
    "4. matplotlib\n",
    "5. seaborn"
   ]
  },
  {
   "cell_type": "markdown",
   "id": "77b71c64",
   "metadata": {},
   "source": [
    "## Exercise 6 - Create a markdown cell with a table of Data Science tools"
   ]
  },
  {
   "cell_type": "markdown",
   "id": "05f4fe17",
   "metadata": {},
   "source": [
    "| Data Science Tools |\n",
    "|--------------------|\n",
    "| Jupyter Notebook   |\n",
    "| RStudio            |\n",
    "| VS Code            |\n",
    "| PyCharm            |\n",
    "| Spyder             |"
   ]
  },
  {
   "cell_type": "markdown",
   "id": "3370580d",
   "metadata": {},
   "source": [
    "## Exercise 7 - Create a markdown cell introducing arithmetic expression examples "
   ]
  },
  {
   "cell_type": "markdown",
   "id": "e1003f02",
   "metadata": {},
   "source": [
    "### Below are a few examples of evaluating arithmetic expressions in Python"
   ]
  },
  {
   "cell_type": "markdown",
   "id": "59943a5c",
   "metadata": {},
   "source": [
    "## Exercise 8 - Createa code cell to multiply  and  add numbers"
   ]
  },
  {
   "cell_type": "code",
   "execution_count": 4,
   "id": "b0eda65d",
   "metadata": {},
   "outputs": [
    {
     "data": {
      "text/plain": [
       "17"
      ]
     },
     "execution_count": 4,
     "metadata": {},
     "output_type": "execute_result"
    }
   ],
   "source": [
    "# This is a simple arithmetic expression to multiply then add integers.\n",
    "(3*4)+5"
   ]
  },
  {
   "cell_type": "markdown",
   "id": "a90abf7f",
   "metadata": {},
   "source": [
    "## Exercise 9 - Create a code cell to convert minutes in hours"
   ]
  },
  {
   "cell_type": "code",
   "execution_count": 5,
   "id": "8629f4a9",
   "metadata": {},
   "outputs": [
    {
     "data": {
      "text/plain": [
       "3.3333333333333335"
      ]
     },
     "execution_count": 5,
     "metadata": {},
     "output_type": "execute_result"
    }
   ],
   "source": [
    "# This will convert 200 minutes to hours by dividing by 60.\n",
    "200/60"
   ]
  },
  {
   "cell_type": "markdown",
   "id": "5c80d819",
   "metadata": {},
   "source": [
    "## Exercise 10 - Insert a markdown cell to list Objectives "
   ]
  },
  {
   "cell_type": "markdown",
   "id": "836b7fb2",
   "metadata": {},
   "source": [
    "*Objectives:*\n",
    "\n",
    "- List popular languages for Data Science\n",
    "- Introduce arithmetic expressions in Python\n",
    "- Convert minutes to hours using Python\n",
    "- Create a table of Data Science tools\n",
    "- Use Markdown syntax to format text in Jupyter Notebook"
   ]
  },
  {
   "cell_type": "markdown",
   "id": "1befe6ce",
   "metadata": {},
   "source": [
    "## Exercise 11 - Create a markdown cell to indicate the Author's name"
   ]
  },
  {
   "cell_type": "markdown",
   "id": "a36402e6",
   "metadata": {},
   "source": [
    "## Author:\n",
    "\n",
    "ATTIKPO KODJO ARSENE "
   ]
  },
  {
   "cell_type": "code",
   "execution_count": null,
   "id": "e2caa954",
   "metadata": {},
   "outputs": [],
   "source": []
  }
 ],
 "metadata": {
  "kernelspec": {
   "display_name": "Python 3 (ipykernel)",
   "language": "python",
   "name": "python3"
  },
  "language_info": {
   "codemirror_mode": {
    "name": "ipython",
    "version": 3
   },
   "file_extension": ".py",
   "mimetype": "text/x-python",
   "name": "python",
   "nbconvert_exporter": "python",
   "pygments_lexer": "ipython3",
   "version": "3.11.5"
  }
 },
 "nbformat": 4,
 "nbformat_minor": 5
}
